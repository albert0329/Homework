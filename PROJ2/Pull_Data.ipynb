{
 "cells": [
  {
   "cell_type": "code",
   "execution_count": 8,
   "metadata": {},
   "outputs": [
    {
     "name": "stdout",
     "output_type": "stream",
     "text": [
      "High five! You successfully sent some data to your account on plotly. View your plot in your browser at https://plot.ly/~gpoppe329/0 or inside your plot.ly account where it is named 'simple_candlestick'\n"
     ]
    },
    {
     "data": {
      "text/html": [
       "<iframe id=\"igraph\" scrolling=\"no\" style=\"border:none;\" seamless=\"seamless\" src=\"https://plot.ly/~gpoppe329/0.embed\" height=\"525px\" width=\"100%\"></iframe>"
      ],
      "text/plain": [
       "<plotly.tools.PlotlyDisplay object>"
      ]
     },
     "execution_count": 8,
     "metadata": {},
     "output_type": "execute_result"
    }
   ],
   "source": [
    "# Dependencies\n",
    "import numpy as np\n",
    "import pandas as pd\n",
    "import config\n",
    "import matplotlib.pyplot as plt\n",
    "import requests\n",
    "import time\n",
    "from datetime import date, datetime, timedelta\n",
    "import json\n",
    "import dateutil\n",
    "from time import mktime\n",
    "from pandas.io.json import json_normalize\n",
    "from sqlalchemy import create_engine\n",
    "import pymysql\n",
    "pymysql.install_as_MySQLdb()\n",
    "import seaborn as sns\n",
    "import plotly.plotly as py\n",
    "import plotly.graph_objs as go\n",
    "import plotly\n",
    "import config\n",
    "\n",
    "\n",
    "plotly.tools.set_credentials_file(username= config.ploty_user_name, api_key=config.plotly_API_Key)\n",
    "\n",
    "\n",
    "#Initialize MySQL Connection\n",
    "\n",
    "rds_connection_string = (f'root:{config.sql_pw}@127.0.0.1/raw_data_db')\n",
    "engine = create_engine(f'mysql://{rds_connection_string}')\n",
    "\n",
    "\n",
    "#Get Last data point and go back \n",
    "max_unit = pd.read_sql('select max(unix) as max_unit from EUR_USD_M5_A_Source', con = engine)\n",
    "max_unit = max_unit.iloc[0, 0]\n",
    "\n",
    "df = pd.read_sql(f'select * from EUR_USD_M5_A_Source where unix >= {max_unit} - 20000', con=engine)\n",
    "\n",
    "\n",
    "#Plot Data\n",
    "#sns.lineplot(data=df['ask_o'], palette=\"tab10\", linewidth=1.5)\n",
    "\n",
    "\n",
    "\n",
    "trace = go.Candlestick(x=df['time'],\n",
    "                open=df['ask_o'],\n",
    "                high=df['ask_h'],\n",
    "                low=df['ask_l'],\n",
    "                close=df['ask_c'])\n",
    "data = [trace]\n",
    "py.iplot(data, filename='simple_candlestick')"
   ]
  },
  {
   "cell_type": "code",
   "execution_count": null,
   "metadata": {},
   "outputs": [],
   "source": [
    "len(df)"
   ]
  },
  {
   "cell_type": "code",
   "execution_count": null,
   "metadata": {},
   "outputs": [],
   "source": [
    "\n",
    "\n",
    "#VTnd11cXXBX1aB1NiKOk"
   ]
  },
  {
   "cell_type": "code",
   "execution_count": null,
   "metadata": {},
   "outputs": [],
   "source": [
    "\n",
    "\n",
    "#df = pd.read_csv('https://raw.githubusercontent.com/plotly/datasets/master/finance-charts-apple.csv')\n",
    "\n",
    "trace = go.Candlestick(x=df['unix'],\n",
    "                open=df['ask_o'],\n",
    "                high=df['ask_h'],\n",
    "                low=df['ask_l'],\n",
    "                close=df['ask_c'])\n",
    "data = [trace]\n",
    "py.iplot(data, filename='simple_candlestick')"
   ]
  },
  {
   "cell_type": "code",
   "execution_count": null,
   "metadata": {},
   "outputs": [],
   "source": []
  },
  {
   "cell_type": "code",
   "execution_count": null,
   "metadata": {},
   "outputs": [],
   "source": []
  }
 ],
 "metadata": {
  "kernelspec": {
   "display_name": "Python 3",
   "language": "python",
   "name": "python3"
  },
  "language_info": {
   "codemirror_mode": {
    "name": "ipython",
    "version": 3
   },
   "file_extension": ".py",
   "mimetype": "text/x-python",
   "name": "python",
   "nbconvert_exporter": "python",
   "pygments_lexer": "ipython3",
   "version": "3.7.0"
  }
 },
 "nbformat": 4,
 "nbformat_minor": 2
}
